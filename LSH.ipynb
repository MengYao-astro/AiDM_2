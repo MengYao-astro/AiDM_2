{
 "cells": [
  {
   "cell_type": "markdown",
   "metadata": {},
   "source": [
    "# AiDM Assignment 2\n",
    "##  Locality Sensitive Hashing for Netflix Data"
   ]
  },
  {
   "cell_type": "markdown",
   "metadata": {},
   "source": [
    "###  Load Data\n",
    "First we read in the data"
   ]
  },
  {
   "cell_type": "code",
   "execution_count": 40,
   "metadata": {},
   "outputs": [],
   "source": [
    "import numpy as np\n",
    "data_origin = np.load('../user_movie.npy')"
   ]
  },
  {
   "cell_type": "markdown",
   "metadata": {},
   "source": [
    "### Shingling\n",
    "In the interest of memory conservation (only stoing non-zero elements) and efficient rearrangement, we store the data as ones in indicies according to their user ID (column) and rated movies (rows, 1 if rated 0 if not) "
   ]
  },
  {
   "cell_type": "code",
   "execution_count": null,
   "metadata": {},
   "outputs": [],
   "source": [
    "from scipy.sparse import csc_matrix\n",
    "users_movies = csc_matrix((np.ones(len(data_origin)), (data_origin[:,1], data_origin[:,0])), shape=(np.max(data_origin[:,1])+1, np.max(data_origin[:,0])+1))"
   ]
  },
  {
   "cell_type": "markdown",
   "metadata": {},
   "source": [
    "### Signature Matrix\n",
    "Now we create a random permutations of movie indicies and rearrange our matrix to match. The first non-zero element in the new arrangement will be an element in the user's signature. We will start using 100 permutations, so that our signatures for each user are of length 100."
   ]
  },
  {
   "cell_type": "code",
   "execution_count": null,
   "metadata": {},
   "outputs": [],
   "source": [
    "import time\n",
    "tic = time.clock()\n",
    "signature_length = 10\n",
    "signature_matrix = np.zeros((signature_length, np.max(data_origin[:,0])+1))\n",
    "permutation_indicies = np.arange(np.max(data_origin[:,1])+1)\n",
    "users_movies_copy = np.copy(users_movies)\n",
    "for i in range(signature_length):\n",
    "    np.random.shuffle(permutation_indicies)\n",
    "    users_movies_copy = users_movies[permutation_indicies,:]\n",
    "    signature_matrix[i,:]= (users_movies_copy!=0).argmax(axis=0)\n",
    "toc = time.clock()\n",
    "print('Gee-whiz, it only took', int(toc - tic), 'seconds to make the signature matrix!')"
   ]
  },
  {
   "cell_type": "markdown",
   "metadata": {},
   "source": [
    "Now let's test to make sure we made our signture matrix correctly. For the last signature in the matrix for the first user, is the index actually the first non-zero entry in the permutation_indicies arrangement?"
   ]
  },
  {
   "cell_type": "code",
   "execution_count": null,
   "metadata": {},
   "outputs": [],
   "source": [
    "for j in permutation_indicies[1+np.arange(int(signature_matrix[signature_length-1,0]))]:\n",
    "    print('Index:', j, ', Entry:', users_movies[j,0])"
   ]
  },
  {
   "cell_type": "markdown",
   "metadata": {},
   "source": [
    "Yep, that is indeed the first non-zero entry in this ordering!"
   ]
  },
  {
   "cell_type": "markdown",
   "metadata": {},
   "source": [
    "###  Partition Into Bands\n",
    "Next we cut the signature matrix into 5 bands (to start),"
   ]
  },
  {
   "cell_type": "code",
   "execution_count": null,
   "metadata": {},
   "outputs": [],
   "source": [
    "bands = 20"
   ]
  },
  {
   "cell_type": "code",
   "execution_count": null,
   "metadata": {},
   "outputs": [],
   "source": []
  }
 ],
 "metadata": {
  "kernelspec": {
   "display_name": "Python 3",
   "language": "python",
   "name": "python3"
  },
  "language_info": {
   "codemirror_mode": {
    "name": "ipython",
    "version": 3
   },
   "file_extension": ".py",
   "mimetype": "text/x-python",
   "name": "python",
   "nbconvert_exporter": "python",
   "pygments_lexer": "ipython3",
   "version": "3.6.7"
  }
 },
 "nbformat": 4,
 "nbformat_minor": 2
}
