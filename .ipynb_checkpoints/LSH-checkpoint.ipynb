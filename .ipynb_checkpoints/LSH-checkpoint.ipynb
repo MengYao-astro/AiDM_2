{
 "cells": [
  {
   "cell_type": "markdown",
   "metadata": {},
   "source": [
    "# AiDM Assignment 2\n",
    "##  Locality Sensitive Hashing for Netflix Data"
   ]
  },
  {
   "cell_type": "code",
   "execution_count": 222,
   "metadata": {},
   "outputs": [],
   "source": [
    "import numpy as np\n",
    "import time\n",
    "import os\n",
    "start = time.time()"
   ]
  },
  {
   "cell_type": "markdown",
   "metadata": {},
   "source": [
    "###  Load Data\n",
    "First we read in the data"
   ]
  },
  {
   "cell_type": "code",
   "execution_count": 223,
   "metadata": {},
   "outputs": [],
   "source": [
    "data_origin = np.load('../user_movie.npy')"
   ]
  },
  {
   "cell_type": "markdown",
   "metadata": {},
   "source": [
    "We show the function for calculating the similarities between users here."
   ]
  },
  {
   "cell_type": "code",
   "execution_count": 224,
   "metadata": {},
   "outputs": [],
   "source": [
    "def generate_list(data,n):\n",
    "    '''\n",
    "    The function is to generate a list that contains sets for users. Each set is the watched movies for one user.\n",
    "    data :\n",
    "    n : persent of dataset will be considered\n",
    "    '''\n",
    "    data_n_persent = data[0:int(len(data_origin)*n),:] # Drag out n persent from the entire dataset.\n",
    "    user_movie_list = [[] for _ in range(len(set(data_n_persent[:,0])))] \n",
    "    # Prepare a list of sets.\n",
    "    # Every set represent a user  \n",
    "    for i in range(len(data_n_persent)):\n",
    "        user_movie_list[data_n_persent[i,0]].append(data_n_persent[i,1])\n",
    "    for j in range(len(user_movie_list)):\n",
    "        user_movie_list[j] = set(user_movie_list[j]) # convert every user list to a set\n",
    "    return user_movie_list  # will return the whole watched movies set for every user in only one list.\n",
    "def simi(pair,set_list):\n",
    "    a = set_list[pair[0]]\n",
    "    b = set_list[pair[1]]\n",
    "    intersection = a & b # Use logical and to achieve the intersection\n",
    "    n_intersection = len(intersection)\n",
    "    similarity = n_intersection / (len(a) + len(b) - n_intersection) # Calculate sim\n",
    "    return similarity"
   ]
  },
  {
   "cell_type": "code",
   "execution_count": 225,
   "metadata": {},
   "outputs": [],
   "source": [
    "set_list_total = generate_list(data_origin,1)"
   ]
  },
  {
   "cell_type": "markdown",
   "metadata": {},
   "source": [
    "### Shingling\n",
    "In the interest of memory conservation (only stoing non-zero elements) and efficient rearrangement, we store the data as ones in indicies according to their user ID (column) and rated movies (rows, 1 if rated 0 if not) "
   ]
  },
  {
   "cell_type": "code",
   "execution_count": 226,
   "metadata": {},
   "outputs": [],
   "source": [
    "from scipy.sparse import csc_matrix\n",
    "users_movies = csc_matrix((np.ones(len(data_origin)), (data_origin[:,1], data_origin[:,0])),\\\n",
    "                          shape=(np.max(data_origin[:,1])+1, np.max(data_origin[:,0])+1))"
   ]
  },
  {
   "cell_type": "markdown",
   "metadata": {},
   "source": [
    "### Signature Matrix\n",
    "Now we create a random permutations of movie indicies and rearrange our matrix to match. The first non-zero element in the new arrangement will be an element in the user's signature. We will start using 100 permutations, so that our signatures for each user are of length 100."
   ]
  },
  {
   "cell_type": "code",
   "execution_count": 227,
   "metadata": {},
   "outputs": [
    {
     "name": "stdout",
     "output_type": "stream",
     "text": [
      "Gee-whiz, it only took 219 seconds to make the signature matrix!\n"
     ]
    }
   ],
   "source": [
    "tic = time.time()\n",
    "signature_length = 50\n",
    "signature_matrix = np.zeros((signature_length, np.max(data_origin[:,0])+1))\n",
    "permutation_indicies = np.arange(np.max(data_origin[:,1])+1)\n",
    "users_movies_copy = np.copy(users_movies)\n",
    "for i in range(signature_length):\n",
    "    np.random.shuffle(permutation_indicies)\n",
    "    users_movies_copy = users_movies[permutation_indicies,:]\n",
    "    signature_matrix[i,:]= (users_movies_copy!=0).argmax(axis=0)\n",
    "print('Gee-whiz, it only took', int(time.time() - tic), 'seconds to make the signature matrix!')"
   ]
  },
  {
   "cell_type": "markdown",
   "metadata": {},
   "source": [
    "Now let's test to make sure we made our signture matrix correctly. For the last signature in the matrix for the first user, is the index actually the first non-zero entry in the permutation_indicies arrangement?\n"
   ]
  },
  {
   "cell_type": "code",
   "execution_count": 228,
   "metadata": {},
   "outputs": [
    {
     "name": "stdout",
     "output_type": "stream",
     "text": [
      "Index: 16806 , Entry: 0.0\n",
      "Index: 897 , Entry: 0.0\n",
      "Index: 2337 , Entry: 0.0\n",
      "Index: 16793 , Entry: 0.0\n",
      "Index: 3342 , Entry: 0.0\n",
      "Index: 16833 , Entry: 0.0\n",
      "Index: 5667 , Entry: 0.0\n",
      "Index: 4686 , Entry: 0.0\n",
      "Index: 13188 , Entry: 0.0\n",
      "Index: 382 , Entry: 0.0\n",
      "Index: 16623 , Entry: 0.0\n",
      "Index: 7923 , Entry: 0.0\n",
      "Index: 14838 , Entry: 0.0\n",
      "Index: 14575 , Entry: 0.0\n",
      "Index: 4793 , Entry: 0.0\n",
      "Index: 3691 , Entry: 0.0\n",
      "Index: 15223 , Entry: 0.0\n",
      "Index: 6969 , Entry: 0.0\n",
      "Index: 12780 , Entry: 0.0\n",
      "Index: 8782 , Entry: 0.0\n",
      "Index: 14517 , Entry: 0.0\n",
      "Index: 7232 , Entry: 0.0\n",
      "Index: 9621 , Entry: 0.0\n",
      "Index: 4247 , Entry: 0.0\n",
      "Index: 7844 , Entry: 0.0\n",
      "Index: 14873 , Entry: 0.0\n",
      "Index: 1733 , Entry: 0.0\n",
      "Index: 3452 , Entry: 0.0\n",
      "Index: 3101 , Entry: 0.0\n",
      "Index: 2912 , Entry: 1.0\n"
     ]
    }
   ],
   "source": [
    "for j in permutation_indicies[1+np.arange(int(signature_matrix[signature_length-1,0]))]:\n",
    "    print('Index:', j, ', Entry:', users_movies[j,0])"
   ]
  },
  {
   "cell_type": "markdown",
   "metadata": {},
   "source": [
    "Yep, that is indeed the first non-zero entry in this ordering!"
   ]
  },
  {
   "cell_type": "markdown",
   "metadata": {},
   "source": [
    "###  Partition Into Bands\n",
    "Next we cut the signature matrix into 5 bands (to start),"
   ]
  },
  {
   "cell_type": "code",
   "execution_count": 236,
   "metadata": {},
   "outputs": [],
   "source": [
    "def hash_to_bucket(bands = 5,sig_M = np.ones((100,20))):\n",
    "    rows = int(len(sig_M) / bands)\n",
    "    possible_sig_max = 17749\n",
    "    candidate_list = [[[] for _ in range(possible_sig_max * rows)] for _ in range(bands)]\n",
    "    candidates = []\n",
    "    for i in range(bands):\n",
    "        for j in range(len(sig_M[0])):\n",
    "            hash_sum = sum(sig_M[int(i * rows):int((i+1)*20),j])\n",
    "            candidate_list[i][int(hash_sum)].append(j)\n",
    "        candidates.append([x for x in candidate_list[i] if x])\n",
    "    return candidates\n",
    "\n",
    "def bucket_to_simi(candidates, start = time.time()):\n",
    "    pairs = []\n",
    "    similarities = []\n",
    "    for band in candidates:\n",
    "        for bucket in band:\n",
    "            for i in range(len(bucket)):\n",
    "                for j in np.arange(start=i+1, stop = len(bucket), step=1):\n",
    "                    pair = [bucket[i],bucket[int(j)]]\n",
    "                    if pair not in pairs:\n",
    "                        similarity = simi(pair,set_list_total)\n",
    "                        pairs.append(pair)\n",
    "                        similarities.append(simi(pair,set_list_total))\n",
    "                    if time.time() - start > 30:\n",
    "                        break\n",
    "    return pairs , similarities"
   ]
  },
  {
   "cell_type": "code",
   "execution_count": 239,
   "metadata": {},
   "outputs": [
    {
     "ename": "KeyboardInterrupt",
     "evalue": "",
     "output_type": "error",
     "traceback": [
      "\u001b[0;31m---------------------------------------------------------------------------\u001b[0m",
      "\u001b[0;31mKeyboardInterrupt\u001b[0m                         Traceback (most recent call last)",
      "\u001b[0;32m<ipython-input-239-24334b5f889f>\u001b[0m in \u001b[0;36m<module>\u001b[0;34m\u001b[0m\n\u001b[0;32m----> 1\u001b[0;31m \u001b[0mcandidates\u001b[0m \u001b[0;34m=\u001b[0m \u001b[0mhash_to_bucket\u001b[0m\u001b[0;34m(\u001b[0m\u001b[0mbands\u001b[0m \u001b[0;34m=\u001b[0m \u001b[0;36m5\u001b[0m\u001b[0;34m,\u001b[0m \u001b[0msig_M\u001b[0m \u001b[0;34m=\u001b[0m \u001b[0msignature_matrix\u001b[0m\u001b[0;34m)\u001b[0m\u001b[0;34m\u001b[0m\u001b[0;34m\u001b[0m\u001b[0m\n\u001b[0m\u001b[1;32m      2\u001b[0m \u001b[0mpairs\u001b[0m \u001b[0;34m,\u001b[0m \u001b[0msimilarities\u001b[0m \u001b[0;34m=\u001b[0m \u001b[0mbucket_to_simi\u001b[0m\u001b[0;34m(\u001b[0m\u001b[0mcandidates\u001b[0m\u001b[0;34m)\u001b[0m\u001b[0;34m\u001b[0m\u001b[0;34m\u001b[0m\u001b[0m\n\u001b[1;32m      3\u001b[0m \u001b[0mThreshold\u001b[0m \u001b[0;34m=\u001b[0m \u001b[0;36m0.5\u001b[0m\u001b[0;34m\u001b[0m\u001b[0;34m\u001b[0m\u001b[0m\n\u001b[1;32m      4\u001b[0m \u001b[0mmaker\u001b[0m \u001b[0;34m=\u001b[0m \u001b[0msimilarities\u001b[0m \u001b[0;34m>\u001b[0m \u001b[0;36m0.5\u001b[0m\u001b[0;34m\u001b[0m\u001b[0;34m\u001b[0m\u001b[0m\n\u001b[1;32m      5\u001b[0m \u001b[0msimilar_users\u001b[0m \u001b[0;34m=\u001b[0m \u001b[0mpairs\u001b[0m\u001b[0;34m[\u001b[0m\u001b[0mmaker\u001b[0m\u001b[0;34m]\u001b[0m\u001b[0;34m\u001b[0m\u001b[0;34m\u001b[0m\u001b[0m\n",
      "\u001b[0;32m<ipython-input-236-a6158631c0d4>\u001b[0m in \u001b[0;36mhash_to_bucket\u001b[0;34m(bands, sig_M)\u001b[0m\n\u001b[1;32m      2\u001b[0m     \u001b[0mrows\u001b[0m \u001b[0;34m=\u001b[0m \u001b[0mint\u001b[0m\u001b[0;34m(\u001b[0m\u001b[0mlen\u001b[0m\u001b[0;34m(\u001b[0m\u001b[0msig_M\u001b[0m\u001b[0;34m)\u001b[0m \u001b[0;34m/\u001b[0m \u001b[0mbands\u001b[0m\u001b[0;34m)\u001b[0m\u001b[0;34m\u001b[0m\u001b[0;34m\u001b[0m\u001b[0m\n\u001b[1;32m      3\u001b[0m     \u001b[0mpossible_sig_max\u001b[0m \u001b[0;34m=\u001b[0m \u001b[0;36m17749\u001b[0m\u001b[0;34m\u001b[0m\u001b[0;34m\u001b[0m\u001b[0m\n\u001b[0;32m----> 4\u001b[0;31m     \u001b[0mcandidate_list\u001b[0m \u001b[0;34m=\u001b[0m \u001b[0;34m[\u001b[0m\u001b[0;34m[\u001b[0m\u001b[0;34m[\u001b[0m\u001b[0;34m]\u001b[0m \u001b[0;32mfor\u001b[0m \u001b[0m_\u001b[0m \u001b[0;32min\u001b[0m \u001b[0mrange\u001b[0m\u001b[0;34m(\u001b[0m\u001b[0mpossible_sig_max\u001b[0m \u001b[0;34m*\u001b[0m \u001b[0mrows\u001b[0m\u001b[0;34m)\u001b[0m\u001b[0;34m]\u001b[0m \u001b[0;32mfor\u001b[0m \u001b[0m_\u001b[0m \u001b[0;32min\u001b[0m \u001b[0mrange\u001b[0m\u001b[0;34m(\u001b[0m\u001b[0mbands\u001b[0m\u001b[0;34m)\u001b[0m\u001b[0;34m]\u001b[0m\u001b[0;34m\u001b[0m\u001b[0;34m\u001b[0m\u001b[0m\n\u001b[0m\u001b[1;32m      5\u001b[0m     \u001b[0mcandidates\u001b[0m \u001b[0;34m=\u001b[0m \u001b[0;34m[\u001b[0m\u001b[0;34m]\u001b[0m\u001b[0;34m\u001b[0m\u001b[0;34m\u001b[0m\u001b[0m\n\u001b[1;32m      6\u001b[0m     \u001b[0;32mfor\u001b[0m \u001b[0mi\u001b[0m \u001b[0;32min\u001b[0m \u001b[0mrange\u001b[0m\u001b[0;34m(\u001b[0m\u001b[0mbands\u001b[0m\u001b[0;34m)\u001b[0m\u001b[0;34m:\u001b[0m\u001b[0;34m\u001b[0m\u001b[0;34m\u001b[0m\u001b[0m\n",
      "\u001b[0;32m<ipython-input-236-a6158631c0d4>\u001b[0m in \u001b[0;36m<listcomp>\u001b[0;34m(.0)\u001b[0m\n\u001b[1;32m      2\u001b[0m     \u001b[0mrows\u001b[0m \u001b[0;34m=\u001b[0m \u001b[0mint\u001b[0m\u001b[0;34m(\u001b[0m\u001b[0mlen\u001b[0m\u001b[0;34m(\u001b[0m\u001b[0msig_M\u001b[0m\u001b[0;34m)\u001b[0m \u001b[0;34m/\u001b[0m \u001b[0mbands\u001b[0m\u001b[0;34m)\u001b[0m\u001b[0;34m\u001b[0m\u001b[0;34m\u001b[0m\u001b[0m\n\u001b[1;32m      3\u001b[0m     \u001b[0mpossible_sig_max\u001b[0m \u001b[0;34m=\u001b[0m \u001b[0;36m17749\u001b[0m\u001b[0;34m\u001b[0m\u001b[0;34m\u001b[0m\u001b[0m\n\u001b[0;32m----> 4\u001b[0;31m     \u001b[0mcandidate_list\u001b[0m \u001b[0;34m=\u001b[0m \u001b[0;34m[\u001b[0m\u001b[0;34m[\u001b[0m\u001b[0;34m[\u001b[0m\u001b[0;34m]\u001b[0m \u001b[0;32mfor\u001b[0m \u001b[0m_\u001b[0m \u001b[0;32min\u001b[0m \u001b[0mrange\u001b[0m\u001b[0;34m(\u001b[0m\u001b[0mpossible_sig_max\u001b[0m \u001b[0;34m*\u001b[0m \u001b[0mrows\u001b[0m\u001b[0;34m)\u001b[0m\u001b[0;34m]\u001b[0m \u001b[0;32mfor\u001b[0m \u001b[0m_\u001b[0m \u001b[0;32min\u001b[0m \u001b[0mrange\u001b[0m\u001b[0;34m(\u001b[0m\u001b[0mbands\u001b[0m\u001b[0;34m)\u001b[0m\u001b[0;34m]\u001b[0m\u001b[0;34m\u001b[0m\u001b[0;34m\u001b[0m\u001b[0m\n\u001b[0m\u001b[1;32m      5\u001b[0m     \u001b[0mcandidates\u001b[0m \u001b[0;34m=\u001b[0m \u001b[0;34m[\u001b[0m\u001b[0;34m]\u001b[0m\u001b[0;34m\u001b[0m\u001b[0;34m\u001b[0m\u001b[0m\n\u001b[1;32m      6\u001b[0m     \u001b[0;32mfor\u001b[0m \u001b[0mi\u001b[0m \u001b[0;32min\u001b[0m \u001b[0mrange\u001b[0m\u001b[0;34m(\u001b[0m\u001b[0mbands\u001b[0m\u001b[0;34m)\u001b[0m\u001b[0;34m:\u001b[0m\u001b[0;34m\u001b[0m\u001b[0;34m\u001b[0m\u001b[0m\n",
      "\u001b[0;32m<ipython-input-236-a6158631c0d4>\u001b[0m in \u001b[0;36m<listcomp>\u001b[0;34m(.0)\u001b[0m\n\u001b[1;32m      2\u001b[0m     \u001b[0mrows\u001b[0m \u001b[0;34m=\u001b[0m \u001b[0mint\u001b[0m\u001b[0;34m(\u001b[0m\u001b[0mlen\u001b[0m\u001b[0;34m(\u001b[0m\u001b[0msig_M\u001b[0m\u001b[0;34m)\u001b[0m \u001b[0;34m/\u001b[0m \u001b[0mbands\u001b[0m\u001b[0;34m)\u001b[0m\u001b[0;34m\u001b[0m\u001b[0;34m\u001b[0m\u001b[0m\n\u001b[1;32m      3\u001b[0m     \u001b[0mpossible_sig_max\u001b[0m \u001b[0;34m=\u001b[0m \u001b[0;36m17749\u001b[0m\u001b[0;34m\u001b[0m\u001b[0;34m\u001b[0m\u001b[0m\n\u001b[0;32m----> 4\u001b[0;31m     \u001b[0mcandidate_list\u001b[0m \u001b[0;34m=\u001b[0m \u001b[0;34m[\u001b[0m\u001b[0;34m[\u001b[0m\u001b[0;34m[\u001b[0m\u001b[0;34m]\u001b[0m \u001b[0;32mfor\u001b[0m \u001b[0m_\u001b[0m \u001b[0;32min\u001b[0m \u001b[0mrange\u001b[0m\u001b[0;34m(\u001b[0m\u001b[0mpossible_sig_max\u001b[0m \u001b[0;34m*\u001b[0m \u001b[0mrows\u001b[0m\u001b[0;34m)\u001b[0m\u001b[0;34m]\u001b[0m \u001b[0;32mfor\u001b[0m \u001b[0m_\u001b[0m \u001b[0;32min\u001b[0m \u001b[0mrange\u001b[0m\u001b[0;34m(\u001b[0m\u001b[0mbands\u001b[0m\u001b[0;34m)\u001b[0m\u001b[0;34m]\u001b[0m\u001b[0;34m\u001b[0m\u001b[0;34m\u001b[0m\u001b[0m\n\u001b[0m\u001b[1;32m      5\u001b[0m     \u001b[0mcandidates\u001b[0m \u001b[0;34m=\u001b[0m \u001b[0;34m[\u001b[0m\u001b[0;34m]\u001b[0m\u001b[0;34m\u001b[0m\u001b[0;34m\u001b[0m\u001b[0m\n\u001b[1;32m      6\u001b[0m     \u001b[0;32mfor\u001b[0m \u001b[0mi\u001b[0m \u001b[0;32min\u001b[0m \u001b[0mrange\u001b[0m\u001b[0;34m(\u001b[0m\u001b[0mbands\u001b[0m\u001b[0;34m)\u001b[0m\u001b[0;34m:\u001b[0m\u001b[0;34m\u001b[0m\u001b[0;34m\u001b[0m\u001b[0m\n",
      "\u001b[0;31mKeyboardInterrupt\u001b[0m: "
     ]
    }
   ],
   "source": [
    "       \n",
    "candidates = hash_to_bucket(bands = 5, sig_M = signature_matrix)\n",
    "pairs , similarities = bucket_to_simi(candidates)\n",
    "Threshold = 0.5\n",
    "maker = similarities > 0.5\n",
    "similar_users = pairs[maker]\n",
    "\n",
    "if os.path.exists('results.txt'):\n",
    "    os.remove('results.txt')\n",
    "with open('results.txt','w') as f:\n",
    "    for item in similar_users:\n",
    "        f.write('%s,%s\\n' % (item[0],item[1]))\n",
    "f.close()\n",
    "pairs"
   ]
  },
  {
   "cell_type": "code",
   "execution_count": 240,
   "metadata": {},
   "outputs": [
    {
     "data": {
      "text/plain": [
       "[[73744, 77806]]"
      ]
     },
     "execution_count": 240,
     "metadata": {},
     "output_type": "execute_result"
    }
   ],
   "source": [
    "pairs"
   ]
  },
  {
   "cell_type": "code",
   "execution_count": 231,
   "metadata": {},
   "outputs": [
    {
     "data": {
      "text/plain": [
       "'\\ncandidates_unique = candidates[0]\\nfor i in range(bands-1):\\n    candidates_unique += [e for e in candidates[i+1] if e not in candidates_unique]\\ncandidates_unique\\n'"
      ]
     },
     "execution_count": 231,
     "metadata": {},
     "output_type": "execute_result"
    }
   ],
   "source": [
    "\"\"\"\n",
    "# Meng's testing\n",
    "\n",
    "#candidates = set().union(candidate_list[0],candidate_list[1])\n",
    "#candidate_list[0] | candidate_list[1]\n",
    "#candidates[0] == candidates[1]\n",
    "'''\n",
    "candidates_unique = candidates[0]\n",
    "for i in range(bands-1):\n",
    "    candidates_unique += [e for e in candidates[i+1] if e not in candidates_unique]\n",
    "candidates_unique\n",
    "''''\n",
    "\n",
    "\n",
    "\"\"\""
   ]
  },
  {
   "cell_type": "code",
   "execution_count": 232,
   "metadata": {},
   "outputs": [
    {
     "name": "stdout",
     "output_type": "stream",
     "text": [
      "[[1 0 4 0 0 0]\n",
      " [0 0 5 0 0 0]\n",
      " [2 3 6 0 0 0]\n",
      " [0 0 0 0 0 0]\n",
      " [0 0 0 0 0 0]\n",
      " [0 0 0 0 0 0]]\n",
      "[3 5 1 4 0 2]\n",
      "[[0 0 0 0 0 0]\n",
      " [0 0 0 0 0 0]\n",
      " [0 0 5 0 0 0]\n",
      " [0 0 0 0 0 0]\n",
      " [1 0 4 0 0 0]\n",
      " [2 3 6 0 0 0]]\n",
      "[[4 5 2 0 0 0]\n",
      " [0 0 5 0 0 0]\n",
      " [2 3 6 0 0 0]\n",
      " [0 0 0 0 0 0]\n",
      " [0 0 0 0 0 0]\n",
      " [0 0 0 0 0 0]]\n"
     ]
    }
   ],
   "source": [
    "'''\n",
    "#Michael's testing\n",
    "\n",
    "row = np.array([0, 2, 2, 0, 1, 2])\n",
    "col = np.array([0, 0, 1, 2, 2, 2])\n",
    "data = np.array([1, 2, 3, 4, 5, 6])\n",
    "A = csc_matrix((data, (row, col)), shape=(len(row), len(col))).toarray()\n",
    "print(A)\n",
    "x = np.arange(len(row))\n",
    "np.random.shuffle(x)\n",
    "print(x)\n",
    "B = A[x,:]\n",
    "print(B)\n",
    "A[0,:] = (B!=0).argmax(axis=0)\n",
    "print(A)\n",
    "'''"
   ]
  }
 ],
 "metadata": {
  "kernelspec": {
   "display_name": "Python 3",
   "language": "python",
   "name": "python3"
  },
  "language_info": {
   "codemirror_mode": {
    "name": "ipython",
    "version": 3
   },
   "file_extension": ".py",
   "mimetype": "text/x-python",
   "name": "python",
   "nbconvert_exporter": "python",
   "pygments_lexer": "ipython3",
   "version": "3.7.3"
  }
 },
 "nbformat": 4,
 "nbformat_minor": 2
}
